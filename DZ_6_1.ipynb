{
 "cells": [
  {
   "cell_type": "code",
   "execution_count": 1,
   "metadata": {
    "executionInfo": {
     "elapsed": 1359,
     "status": "ok",
     "timestamp": 1679600528211,
     "user": {
      "displayName": "Gun Kusha",
      "userId": "16309052245394629231"
     },
     "user_tz": -180
    },
    "id": "sLidrsRI_e7a"
   },
   "outputs": [],
   "source": [
    "from statsmodels.stats.power import tt_ind_solve_power, zt_ind_solve_power\n",
    "from statsmodels.stats.proportion import proportion_effectsize\n",
    "from statsmodels.stats.meta_analysis import effectsize_smd\n",
    "from typing import Union\n",
    "import plotly.graph_objects as go\n",
    "from scipy import stats\n",
    "from math import asin\n",
    "import numpy as np"
   ]
  },
  {
   "cell_type": "markdown",
   "metadata": {
    "id": "EPvSfdELinMU"
   },
   "source": [
    "## Задача 1:\n",
    "Продакт на главной mail.ru решил протестировать в рекомендательной ленте контента вместо карточек со статьями видеоплеер с короткими видео. Нынешний таймспент на юзера в день в среднем равен 25 минут, а стандартная ошибка (SD) равна 156. Мы предполагаем, что в новой версии таймспент на юзера в день изменится на 10%. Средний трафик 20000 человек в день. Посчитайте сколько дней необходимо держать эксперимент при alpha = 5% и beta = 20%.\n"
   ]
  },
  {
   "cell_type": "code",
   "execution_count": 2,
   "metadata": {
    "colab": {
     "base_uri": "https://localhost:8080/"
    },
    "executionInfo": {
     "elapsed": 261,
     "status": "ok",
     "timestamp": 1679600630355,
     "user": {
      "displayName": "Gun Kusha",
      "userId": "16309052245394629231"
     },
     "user_tz": -180
    },
    "id": "SipmO6gPjrEz",
    "outputId": "3167b461-e13a-42ec-83e6-d6c31009a908"
   },
   "outputs": [
    {
     "data": {
      "text/plain": [
       "(-0.01602564102564105, -0.016025039996486808)"
      ]
     },
     "execution_count": 2,
     "metadata": {},
     "output_type": "execute_result"
    }
   ],
   "source": [
    "mu_control, mu_test = 25, 25 * 1.1\n",
    "std_control, std_test = 156, 156\n",
    "\n",
    "def calc_continuous_effect_size(mean_1: Union[float, int],\n",
    "                                std_1: Union[float, int],\n",
    "                                mean_2: Union[float, int],\n",
    "                                std_2: Union[float, int],\n",
    "                                nobs_1: int = 10_000,\n",
    "                                nobs_2: int = 10_000):\n",
    "    \n",
    "    es_formula = (mean_1 - mean_2) / ((std_1**2 + std_2**2) / 2) ** 0.5\n",
    "    es_import = effectsize_smd(mean_1, std_1, nobs_1, mean_2, std_2, nobs_2)[0]\n",
    "    \n",
    "    return es_formula, es_import \n",
    "\n",
    "calc_continuous_effect_size(mean_1=mu_control, std_1=std_control, mean_2=mu_test, std_2=std_test)"
   ]
  },
  {
   "cell_type": "code",
   "execution_count": 4,
   "metadata": {
    "colab": {
     "base_uri": "https://localhost:8080/"
    },
    "executionInfo": {
     "elapsed": 233,
     "status": "ok",
     "timestamp": 1679600800310,
     "user": {
      "displayName": "Gun Kusha",
      "userId": "16309052245394629231"
     },
     "user_tz": -180
    },
    "id": "a_XbMFa5mYps",
    "outputId": "b157e2bf-1c79-4dec-b374-584b84310ada"
   },
   "outputs": [
    {
     "data": {
      "text/plain": [
       "122257"
      ]
     },
     "execution_count": 4,
     "metadata": {},
     "output_type": "execute_result"
    }
   ],
   "source": [
    "effect_size = calc_continuous_effect_size(mean_1=mu_control, std_1=std_control, mean_2=mu_test, std_2=std_test)[1]\n",
    "\n",
    "def calc_sample_size_continuous(effect_size: float,\n",
    "                                alpha: float = .05,\n",
    "                                beta: float = .2,\n",
    "                                ratio: Union[float, int] = 1):\n",
    "    \n",
    "    n = tt_ind_solve_power(effect_size=effect_size,\n",
    "                           alpha=alpha,\n",
    "                           power=(1 - beta),\n",
    "                           ratio=ratio,\n",
    "                  )\n",
    "    return int(n * 2)\n",
    "\n",
    "calc_sample_size_continuous(effect_size=effect_size, alpha=.05, beta=.2)"
   ]
  },
  {
   "cell_type": "code",
   "execution_count": 5,
   "metadata": {
    "colab": {
     "base_uri": "https://localhost:8080/"
    },
    "executionInfo": {
     "elapsed": 237,
     "status": "ok",
     "timestamp": 1679600822709,
     "user": {
      "displayName": "Gun Kusha",
      "userId": "16309052245394629231"
     },
     "user_tz": -180
    },
    "id": "skH__QJ1iPIg",
    "outputId": "809d74a6-f1b2-4d33-941f-cbfc88a1e25a"
   },
   "outputs": [
    {
     "data": {
      "text/plain": [
       "6.0"
      ]
     },
     "execution_count": 5,
     "metadata": {},
     "output_type": "execute_result"
    }
   ],
   "source": [
    "day = round (calc_sample_size_continuous(effect_size=effect_size, alpha=.05, beta=.2)/20000, 0)\n",
    "day"
   ]
  },
  {
   "cell_type": "markdown",
   "metadata": {
    "id": "aj_nzu5AlNbk"
   },
   "source": [
    "## Задача 2:\n",
    "Наша продуктовая команда в ecommerce магазине планирует запустить тест, направленный на ускорение загрузки сайта. Одна из основных метрик bounce rate в GA = 40%. Мы предполагаем, что при оптимизации сайта она изменится минимум на 20%.Средний трафик 4000 человек в день. Посчитайте сколько нам нужно дней держать эксперимент при alpha = 5% и beta = 20%."
   ]
  },
  {
   "cell_type": "code",
   "execution_count": 6,
   "metadata": {
    "colab": {
     "base_uri": "https://localhost:8080/"
    },
    "executionInfo": {
     "elapsed": 258,
     "status": "ok",
     "timestamp": 1679600871708,
     "user": {
      "displayName": "Gun Kusha",
      "userId": "16309052245394629231"
     },
     "user_tz": -180
    },
    "id": "5_EelyG48Kvj",
    "outputId": "316e1f90-d673-4162-c428-4a7eb1132ec6"
   },
   "outputs": [
    {
     "data": {
      "text/plain": [
       "(-0.1613472464363419, -0.1613472464363419)"
      ]
     },
     "execution_count": 6,
     "metadata": {},
     "output_type": "execute_result"
    }
   ],
   "source": [
    "conv_1, conv_2 = 40, 40*1.2\n",
    "nobs_1, nobs_2 = 100, 100\n",
    "prob_1, prob_2 = conv_1 / nobs_1, conv_2 / nobs_2\n",
    "\n",
    "def calc_propotion_effect_size(conv_1: int, nobs_1: int, conv_2: int, nobs_2: int):\n",
    "    prob_1, prob_2 = conv_1 / nobs_1, conv_2 / nobs_2\n",
    "    \n",
    "    es_formula = 2  * asin(np.sqrt(prob_1)) - 2 * asin(np.sqrt(prob_2))\n",
    "    es_import = proportion_effectsize(prob_1, prob_2)\n",
    "    \n",
    "    return es_formula, es_import\n",
    "\n",
    "calc_propotion_effect_size(conv_1=conv_1, nobs_1=nobs_1, conv_2=conv_2, nobs_2=nobs_2)"
   ]
  },
  {
   "cell_type": "code",
   "execution_count": 7,
   "metadata": {
    "colab": {
     "base_uri": "https://localhost:8080/"
    },
    "executionInfo": {
     "elapsed": 230,
     "status": "ok",
     "timestamp": 1679600904927,
     "user": {
      "displayName": "Gun Kusha",
      "userId": "16309052245394629231"
     },
     "user_tz": -180
    },
    "id": "y9rLfOGZ8Kop",
    "outputId": "bc7b0db0-e768-44ca-ed34-a9cb0db1e5d1"
   },
   "outputs": [
    {
     "data": {
      "text/plain": [
       "1205"
      ]
     },
     "execution_count": 7,
     "metadata": {},
     "output_type": "execute_result"
    }
   ],
   "source": [
    "effect_size = calc_propotion_effect_size(conv_1=conv_1, nobs_1=nobs_1, conv_2=conv_2, nobs_2=nobs_2)[1]\n",
    "\n",
    "def calc_sample_size_proportion(effect_size: float,\n",
    "                                alpha: float = .05,\n",
    "                                beta: float = .2,\n",
    "                                ratio: Union[float, int] = 1):\n",
    "    \n",
    "    n = zt_ind_solve_power(effect_size=effect_size,\n",
    "                           alpha=alpha,\n",
    "                           power=(1 - beta),\n",
    "                           ratio=ratio,\n",
    "                  )\n",
    "    return int(n * 2)\n",
    "\n",
    "calc_sample_size_proportion(effect_size=effect_size, alpha=.05, beta=.2)"
   ]
  },
  {
   "cell_type": "code",
   "execution_count": 8,
   "metadata": {
    "colab": {
     "base_uri": "https://localhost:8080/"
    },
    "executionInfo": {
     "elapsed": 304,
     "status": "ok",
     "timestamp": 1679600922235,
     "user": {
      "displayName": "Gun Kusha",
      "userId": "16309052245394629231"
     },
     "user_tz": -180
    },
    "id": "Iy2kQ_h-8Keb",
    "outputId": "00444121-60fd-4ad3-803f-800b7b8e07f8"
   },
   "outputs": [
    {
     "data": {
      "text/plain": [
       "0.3"
      ]
     },
     "execution_count": 8,
     "metadata": {},
     "output_type": "execute_result"
    }
   ],
   "source": [
    "day = round (calc_sample_size_proportion(effect_size=effect_size, alpha=.05, beta=.2)/4000, 2)\n",
    "day"
   ]
  }
 ],
 "metadata": {
  "colab": {
   "authorship_tag": "ABX9TyN8i9xfv1GSQaU6a0a2DpIA",
   "provenance": [
    {
     "file_id": "15LDym75i99QEVQzrWZwG0bkcm3bOZ65Q",
     "timestamp": 1679599572128
    }
   ]
  },
  "kernelspec": {
   "display_name": "Python 3 (ipykernel)",
   "language": "python",
   "name": "python3"
  },
  "language_info": {
   "codemirror_mode": {
    "name": "ipython",
    "version": 3
   },
   "file_extension": ".py",
   "mimetype": "text/x-python",
   "name": "python",
   "nbconvert_exporter": "python",
   "pygments_lexer": "ipython3",
   "version": "3.9.13"
  }
 },
 "nbformat": 4,
 "nbformat_minor": 1
}
