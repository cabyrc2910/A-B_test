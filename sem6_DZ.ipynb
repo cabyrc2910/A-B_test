{
 "cells": [
  {
   "cell_type": "code",
   "execution_count": 1,
   "metadata": {},
   "outputs": [],
   "source": [
    "from statsmodels.stats.power import tt_ind_solve_power, zt_ind_solve_power\n",
    "from statsmodels.stats.proportion import proportion_effectsize\n",
    "from statsmodels.stats.meta_analysis import effectsize_smd\n",
    "from typing import Union\n",
    "import plotly.graph_objects as go\n",
    "from scipy import stats\n",
    "from math import asin\n",
    "import numpy as np\n",
    "from distfit import distfit"
   ]
  },
  {
   "cell_type": "markdown",
   "metadata": {},
   "source": [
    "### Задание 1"
   ]
  },
  {
   "cell_type": "markdown",
   "metadata": {},
   "source": [
    "Продакт на главной mail.ru решил протестировать в рекомендательной ленте контента вместо карточек со статьями видеоплеер с короткими видео. \n",
    "- Нынешний таймспент на юзера в день в среднем равен 25 минут, а стандартная ошибка (SD) равна 15. \n",
    "- Мы предполагаем, что в новой версии таймспент на юзера в день изменится на 10% от текущего значения. \n",
    "- Средний трафик 20000 человек в день. \n",
    "        Посчитайте сколько дней необходимо держать эксперимент \n",
    "        при alpha = 5% и beta = 20%."
   ]
  },
  {
   "cell_type": "code",
   "execution_count": null,
   "metadata": {},
   "outputs": [],
   "source": [
    "nobs_1   = 20000\n",
    "alpha = .05\n",
    "beta = .2"
   ]
  },
  {
   "cell_type": "code",
   "execution_count": null,
   "metadata": {},
   "outputs": [],
   "source": []
  },
  {
   "cell_type": "markdown",
   "metadata": {},
   "source": [
    "### Задание 2"
   ]
  },
  {
   "cell_type": "markdown",
   "metadata": {},
   "source": [
    "Наша продуктовая команда в ecommerce магазине планирует запустить тест, направленный на ускорение загрузки сайта. \n",
    "- Одна из основных метрик bounce rate в GA = 40%. \n",
    "- Мы предполагаем, что при оптимизации сайта изменится минимум на 20% от текущего показателя.\n",
    "- Средний трафик 4000 человек в день. \n",
    "        Посчитайте сколько нам нужно дней держать эксперимент \n",
    "        при alpha = 5% и beta = 20%"
   ]
  },
  {
   "cell_type": "code",
   "execution_count": null,
   "metadata": {},
   "outputs": [],
   "source": [
    "nobs_1 = 4000\n",
    "alpha = .05\n",
    "beta = .2"
   ]
  },
  {
   "cell_type": "code",
   "execution_count": null,
   "metadata": {},
   "outputs": [],
   "source": []
  }
 ],
 "metadata": {
  "kernelspec": {
   "display_name": "Python 3 (ipykernel)",
   "language": "python",
   "name": "python3"
  },
  "language_info": {
   "codemirror_mode": {
    "name": "ipython",
    "version": 3
   },
   "file_extension": ".py",
   "mimetype": "text/x-python",
   "name": "python",
   "nbconvert_exporter": "python",
   "pygments_lexer": "ipython3",
   "version": "3.9.13"
  },
  "vscode": {
   "interpreter": {
    "hash": "30655b0c1fc2685b8435d376e469386ca5c88e793c70994a8dc7dceabeb10022"
   }
  }
 },
 "nbformat": 4,
 "nbformat_minor": 2
}
