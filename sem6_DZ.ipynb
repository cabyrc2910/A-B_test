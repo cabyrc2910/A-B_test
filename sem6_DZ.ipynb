{
 "cells": [
  {
   "cell_type": "code",
   "execution_count": 1,
   "metadata": {},
   "outputs": [],
   "source": [
    "# импорт необходимых библиотек\n",
    "import scipy.stats as stats\n",
    "from scipy.stats import norm, t\n",
    "import numpy as np\n",
    "import math"
   ]
  },
  {
   "cell_type": "markdown",
   "metadata": {},
   "source": [
    "### Задание 1"
   ]
  },
  {
   "cell_type": "markdown",
   "metadata": {},
   "source": [
    "Продакт на главной mail.ru решил протестировать в рекомендательной ленте контента вместо карточек со статьями видеоплеер с короткими видео. \n",
    "- Нынешний таймспент на юзера в день в среднем равен 25 минут, а стандартная ошибка (SD) равна 15. \n",
    "- Мы предполагаем, что в новой версии таймспент на юзера в день изменится на 10% от текущего значения. \n",
    "- Средний трафик 20000 человек в день. \n",
    "        Посчитайте сколько дней необходимо держать эксперимент \n",
    "        при alpha = 5% и beta = 20%."
   ]
  },
  {
   "cell_type": "code",
   "execution_count": 2,
   "metadata": {},
   "outputs": [],
   "source": [
    "nobs   = 20000  # среднее количество юзеров в день\n",
    "sd = 156  # стандартная ошибка\n",
    "alpha = .05  # вероятность ошибки 1 рода\n",
    "beta = .2   # вероятность ошибки 2 рода\n",
    "prop_diff = .1   # относительное изменение таймспента"
   ]
  },
  {
   "cell_type": "code",
   "execution_count": 3,
   "metadata": {},
   "outputs": [],
   "source": [
    "se = sd / np.sqrt(nobs)  # стандартная ошибка среднего\n",
    "m = se * norm.ppf(1 - alpha/2)  # граница для доверительного интервала\n",
    "delta = prop_diff * nobs  # абсолютное изменение таймспента"
   ]
  },
  {
   "cell_type": "code",
   "execution_count": 4,
   "metadata": {},
   "outputs": [],
   "source": [
    "z_alpha = norm.ppf(1 - alpha)  \n",
    "z_beta = norm.ppf(1 - beta) "
   ]
  },
  {
   "cell_type": "code",
   "execution_count": 5,
   "metadata": {},
   "outputs": [
    {
     "name": "stdout",
     "output_type": "stream",
     "text": [
      "Необходимо собрать данные в течении 1 дней.\n"
     ]
    }
   ],
   "source": [
    "nobs_1 = (z_alpha*m + z_beta*sd/delta)**2\n",
    "nobs_2 = (z_alpha*m - z_beta*sd/delta)**2\n",
    "nobs_round = np.ceil(max(nobs_1, nobs_2))\n",
    "days = np.ceil(nobs_round/nobs)  # количество дней\n",
    "print(f\"Необходимо собрать данные в течении {int(days)} дней.\")"
   ]
  },
  {
   "cell_type": "markdown",
   "metadata": {},
   "source": [
    "### Задание 2"
   ]
  },
  {
   "cell_type": "markdown",
   "metadata": {},
   "source": [
    "Наша продуктовая команда в ecommerce магазине планирует запустить тест, направленный на ускорение загрузки сайта. \n",
    "- Одна из основных метрик bounce rate в GA = 40%. \n",
    "- Мы предполагаем, что при оптимизации сайта изменится минимум на 20% от текущего показателя.\n",
    "- Средний трафик 4000 человек в день. \n",
    "        Посчитайте сколько нам нужно дней держать эксперимент \n",
    "        при alpha = 5% и beta = 20%"
   ]
  },
  {
   "cell_type": "code",
   "execution_count": 6,
   "metadata": {},
   "outputs": [],
   "source": [
    "nobs = 4000  # среднее количество юзеров в день\n",
    "alpha = .05  # вероятность ошибки 1 рода\n",
    "beta = .2    # вероятность ошибки 2 рода"
   ]
  },
  {
   "cell_type": "code",
   "execution_count": 7,
   "metadata": {},
   "outputs": [],
   "source": [
    "mean1= .4\n",
    "mean2=- .2\n",
    "power= .8  #  (1 - beta)\n",
    "baseline= .4"
   ]
  },
  {
   "cell_type": "code",
   "execution_count": 8,
   "metadata": {},
   "outputs": [],
   "source": [
    "def sample_size(mean1, mean2, alpha, beta, power, baseline):\n",
    "    std1 = math.sqrt(baseline * (1 - baseline))\n",
    "    z_alpha = stats.norm.ppf(1 - alpha / 2)\n",
    "    z_beta = stats.norm.ppf(power)\n",
    "    std2 = std1 * math.sqrt((baseline - mean2) ** 2 / (mean1 - mean2) ** 2)\n",
    "    return ((std1 * z_alpha + std2 * z_beta) / (mean1 - mean2)) ** 2"
   ]
  },
  {
   "cell_type": "code",
   "execution_count": 9,
   "metadata": {},
   "outputs": [
    {
     "name": "stdout",
     "output_type": "stream",
     "text": [
      "Необходимо держать эксперимент при alpha = 0.05% и beta = 0.2% в течении 5 дней.\n"
     ]
    }
   ],
   "source": [
    "d=round(sample_size(mean1=mean1, mean2=mean2, alpha=alpha, beta=beta, power=power, baseline=baseline))\n",
    "print(f\"Необходимо держать эксперимент при alpha = {alpha}% и beta = {beta}% в течении {int(d)} дней.\")"
   ]
  },
  {
   "cell_type": "code",
   "execution_count": null,
   "metadata": {},
   "outputs": [],
   "source": []
  }
 ],
 "metadata": {
  "kernelspec": {
   "display_name": "Python 3 (ipykernel)",
   "language": "python",
   "name": "python3"
  },
  "language_info": {
   "codemirror_mode": {
    "name": "ipython",
    "version": 3
   },
   "file_extension": ".py",
   "mimetype": "text/x-python",
   "name": "python",
   "nbconvert_exporter": "python",
   "pygments_lexer": "ipython3",
   "version": "3.9.13"
  },
  "vscode": {
   "interpreter": {
    "hash": "30655b0c1fc2685b8435d376e469386ca5c88e793c70994a8dc7dceabeb10022"
   }
  }
 },
 "nbformat": 4,
 "nbformat_minor": 2
}
