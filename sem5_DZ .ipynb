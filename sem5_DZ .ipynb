{
 "cells": [
  {
   "cell_type": "code",
   "execution_count": 6,
   "metadata": {},
   "outputs": [],
   "source": [
    "import numpy as np\n",
    "import statsmodels.stats.proportion as smp"
   ]
  },
  {
   "cell_type": "markdown",
   "metadata": {},
   "source": [
    "### Задание 1"
   ]
  },
  {
   "cell_type": "markdown",
   "metadata": {},
   "source": [
    "- Вы провели эксперимент c упрощением формы заказа в магазине Утконос и получили результаты по метрике конверсий в покупку. Выберите метод оценки и оцените есть ли стат.значимые различия между конверсиями в двух группах при alpha = 5%. Дайте краткие рекомендации команде.\n",
    "        Результаты: \n",
    "1.  Число юзеров в группах , которые заходили на сайт в период эксперимента: n1 = 15550 и n2 = 15550 . \n",
    "2.  Число юзеров в группах , которые совершили хотя бы одну покупку за период эксперимента:  n1 = 164 и n2 = 228 \n",
    "3.  Конверсии : conv1 =  1.05%  conv2 =  1.47% . \n"
   ]
  },
  {
   "cell_type": "code",
   "execution_count": 7,
   "metadata": {},
   "outputs": [],
   "source": [
    "alpha = 0.05 # число успехов в каждой группе\n",
    "successes = np.array([164, 228])"
   ]
  },
  {
   "cell_type": "code",
   "execution_count": 8,
   "metadata": {},
   "outputs": [],
   "source": [
    "# число наблюдений в каждой группе\n",
    "nobs = np.array([15550, 15550])"
   ]
  },
  {
   "cell_type": "code",
   "execution_count": 9,
   "metadata": {},
   "outputs": [],
   "source": [
    "# пропорции успехов в каждой группе\n",
    "proportions = successes / nobs"
   ]
  },
  {
   "cell_type": "code",
   "execution_count": 10,
   "metadata": {},
   "outputs": [
    {
     "name": "stdout",
     "output_type": "stream",
     "text": [
      "-3.253054722696254\n",
      "0.001141715077067056\n"
     ]
    }
   ],
   "source": [
    "# z-статистика и p-значение\n",
    "zstat, pvalue = smp.proportions_ztest(count=successes, nobs=nobs, value=0, alternative='two-sided')\n",
    "print(zstat)\n",
    "print(pvalue)"
   ]
  },
  {
   "cell_type": "markdown",
   "metadata": {},
   "source": [
    "На основе z-статистики: -3.253 и p-value: 0.001, можно сделать вывод о статистически значимых различиях между конверсиями в двух группах."
   ]
  },
  {
   "cell_type": "markdown",
   "metadata": {},
   "source": [
    "Рекомендации: на основании результатов эксперимента можно рекомендовать использовать упрощенную форму заказа в магазине Утконос, так как она приводит к более высокой конверсии в покупку. Однако, следует провести дополнительные исследования, чтобы понять, какие именно элементы формы заказа необходимо упростить, чтобы максимизировать конверсии."
   ]
  },
  {
   "cell_type": "markdown",
   "metadata": {},
   "source": [
    "### Задание 2"
   ]
  },
  {
   "cell_type": "markdown",
   "metadata": {},
   "source": [
    "Сравниваем метрику конверсия в покупку. Размер выборки - 10000 элементов в каждой группе . Какой статистический критерий тут лучше всего подойдёт и почему ?"
   ]
  },
  {
   "cell_type": "markdown",
   "metadata": {},
   "source": [
    "Для сравнения метрики конверсии в покупку между двумя группами с размером выборки по 10 000 элементов в каждой группе лучше всего использовать z-тест, так как объём выборки достаточно большой (больше 30), что позволяет использовать нормальное распределение для вычисления статистической значимости. T-тест Стьюдента также может использоваться в данном случае, но z-тест является более точным и надёжным при больших размерах выборки."
   ]
  }
 ],
 "metadata": {
  "kernelspec": {
   "display_name": "Python 3 (ipykernel)",
   "language": "python",
   "name": "python3"
  },
  "language_info": {
   "codemirror_mode": {
    "name": "ipython",
    "version": 3
   },
   "file_extension": ".py",
   "mimetype": "text/x-python",
   "name": "python",
   "nbconvert_exporter": "python",
   "pygments_lexer": "ipython3",
   "version": "3.9.13"
  },
  "vscode": {
   "interpreter": {
    "hash": "30655b0c1fc2685b8435d376e469386ca5c88e793c70994a8dc7dceabeb10022"
   }
  }
 },
 "nbformat": 4,
 "nbformat_minor": 2
}
